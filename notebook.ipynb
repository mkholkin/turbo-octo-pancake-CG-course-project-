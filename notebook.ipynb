{
 "cells": [
  {
   "cell_type": "code",
   "execution_count": 2,
   "id": "07afbd36",
   "metadata": {},
   "outputs": [],
   "source": [
    "import numpy as np\n",
    "import open3d as o3d\n",
    "import copy\n",
    "\n",
    "from collections import defaultdict\n",
    "from tqdm import tqdm"
   ]
  },
  {
   "cell_type": "code",
   "execution_count": 4,
   "id": "4793676d",
   "metadata": {},
   "outputs": [],
   "source": [
    "def load_and_repair_mesh(filepath):\n",
    "    # Загружаем исходную сетку\n",
    "    mesh = o3d.io.read_triangle_mesh(filepath)\n",
    "    \n",
    "    # Проверяем, есть ли проблема с вершинами\n",
    "    vertices = np.asarray(mesh.vertices)\n",
    "    triangles = np.asarray(mesh.triangles)\n",
    "       \n",
    "    # Создаем словарь для устранения дубликатов вершин\n",
    "    vertex_map = {}\n",
    "    new_vertices = []\n",
    "    new_triangles = []\n",
    "    \n",
    "    # Хеш-функция для вершин (учет возможных погрешностей float)\n",
    "    def vertex_hash(v):\n",
    "        return tuple(np.round(v, 6))\n",
    "    \n",
    "    # Строим отображение старых вершин в новые\n",
    "    for idx, v in enumerate(vertices):\n",
    "        v_hash = vertex_hash(v)\n",
    "        if v_hash not in vertex_map:\n",
    "            vertex_map[v_hash] = len(new_vertices)\n",
    "            new_vertices.append(v)\n",
    "    \n",
    "    # Перестраиваем треугольники с новыми индексами\n",
    "    for tri in triangles:\n",
    "        new_tri = [\n",
    "            vertex_map[vertex_hash(vertices[tri[0]])],\n",
    "            vertex_map[vertex_hash(vertices[tri[1]])],\n",
    "            vertex_map[vertex_hash(vertices[tri[2]])]\n",
    "        ]\n",
    "        new_triangles.append(new_tri)\n",
    "    \n",
    "    # Создаем новую сетку\n",
    "    repaired_mesh = o3d.geometry.TriangleMesh()\n",
    "    repaired_mesh.vertices = o3d.utility.Vector3dVector(np.array(new_vertices))\n",
    "    repaired_mesh.triangles = o3d.utility.Vector3iVector(np.array(new_triangles))\n",
    "    \n",
    "    # Вычисляем нормали для корректного отображения\n",
    "    repaired_mesh.compute_vertex_normals()\n",
    "        \n",
    "    return repaired_mesh"
   ]
  },
  {
   "cell_type": "code",
   "execution_count": 5,
   "id": "6e9e7c4f",
   "metadata": {},
   "outputs": [],
   "source": [
    "mesh_a = load_and_repair_mesh(\"model.stl\")\n",
    "mesh_b = load_and_repair_mesh(\"sphere.stl\")\n",
    "\n",
    "if not mesh_a.has_vertex_normals():\n",
    "    mesh_a.compute_vertex_normals()\n",
    "if not mesh_b.has_vertex_normals():\n",
    "    mesh_b.compute_vertex_normals()"
   ]
  },
  {
   "cell_type": "code",
   "execution_count": 6,
   "id": "6ea9cd53",
   "metadata": {},
   "outputs": [],
   "source": [
    "def triangle_area(v1, v2, v3):\n",
    "    \"\"\"Вычисление площади треугольника\"\"\"\n",
    "    return 0.5 * np.linalg.norm(np.cross(v2 - v1, v3 - v1))\n",
    "\n",
    "def center_of_mass(mesh):\n",
    "    \"\"\"Вычисление центра масс меша\"\"\"\n",
    "    triangles = np.asarray(mesh.triangles)\n",
    "    vertices = np.asarray(mesh.vertices)\n",
    "    \n",
    "    # Получаем вершины каждого треугольника\n",
    "    tri_vertices = vertices[triangles]\n",
    "    \n",
    "    # Центры треугольников\n",
    "    centers = np.mean(tri_vertices, axis=1)\n",
    "    \n",
    "    # Площади треугольников\n",
    "    areas = np.array([triangle_area(t[0], t[1], t[2]) for t in tri_vertices])\n",
    "    \n",
    "    # Центр масс\n",
    "    return np.sum(centers * areas.reshape(-1, 1), axis=0) / np.sum(areas)"
   ]
  },
  {
   "cell_type": "code",
   "execution_count": null,
   "id": "c8086efa",
   "metadata": {},
   "outputs": [],
   "source": [
    "ITERS = 10\n",
    "\n",
    "def normalize(vector):\n",
    "    if not np.all(vector):\n",
    "        raise ZeroDivisionError\n",
    "\n",
    "    return vector / np.linalg.norm(vector)\n",
    "\n",
    "\n",
    "def get_adjacent_vertices(mesh):\n",
    "    \"\"\"Построение словаря смежных вершин\"\"\"\n",
    "    triangles = np.asarray(mesh.triangles)\n",
    "    adjacency_dict = defaultdict(set)\n",
    "\n",
    "    for tri in triangles:\n",
    "        v0, v1, v2 = tri\n",
    "\n",
    "        # Добавляем связи между вершинами треугольника\n",
    "        adjacency_dict[v0].update([v1, v2])\n",
    "        adjacency_dict[v1].update([v0, v2])\n",
    "        adjacency_dict[v2].update([v0, v1])\n",
    "\n",
    "    return adjacency_dict\n",
    "\n",
    "\n",
    "def relax_mesh(mesh, iter_limit=ITERS):\n",
    "    \"\"\"Релаксация меша с сохранением топологии\"\"\"\n",
    "    # Получаем копию исходного меша\n",
    "    relaxed_mesh = copy.deepcopy(mesh)\n",
    "    \n",
    "    # Получаем вершины и треугольники\n",
    "    vertices = np.asarray(relaxed_mesh.vertices)\n",
    "    adj = get_adjacent_vertices(mesh)\n",
    "    \n",
    "    # Релаксация\n",
    "    for _ in range(iter_limit):\n",
    "        prev_vertices = copy.deepcopy(vertices)\n",
    "\n",
    "        for i in range(len(vertices)):\n",
    "            neighbors = list(adj[i])\n",
    "            try:\n",
    "                vertices[i] = normalize(np.mean(prev_vertices[neighbors], axis=0))\n",
    "            except:\n",
    "                pass\n",
    "    \n",
    "    # Обновляем нормали\n",
    "    relaxed_mesh.compute_vertex_normals()\n",
    "    return relaxed_mesh\n",
    "\n",
    "\n",
    "def parametrize_mesh(mesh):\n",
    "    \"\"\"Параметризация меша на сфере\"\"\"\n",
    "    # Создаем копию меша\n",
    "    mesh_copy = copy.deepcopy(mesh)\n",
    "\n",
    "    # Вычисляем центр масс\n",
    "    center = center_of_mass(mesh_copy)\n",
    "\n",
    "    # Переносим вершины в начало координат и нормализуем\n",
    "    vertices = np.asarray(mesh_copy.vertices)\n",
    "    vertices -= center\n",
    "    norms = np.linalg.norm(vertices, axis=1)\n",
    "    norms[norms == 0] = 1  # Избегаем деления на ноль #TODO: troubleshoot\n",
    "    vertices = vertices / norms.reshape(-1, 1)\n",
    "\n",
    "    # Обновляем вершины и нормали\n",
    "    mesh_copy.vertices = o3d.utility.Vector3dVector(vertices)\n",
    "    mesh_copy.compute_vertex_normals()\n",
    "\n",
    "    # Применяем релаксацию\n",
    "    return relax_mesh(mesh_copy, ITERS)"
   ]
  },
  {
   "cell_type": "code",
   "execution_count": 9,
   "id": "771a01a1",
   "metadata": {},
   "outputs": [],
   "source": [
    "def overlap_meshes(source_mesh, target_mesh):\n",
    "    source_pcd = o3d.geometry.PointCloud()\n",
    "    source_pcd.points = source_mesh.vertices\n",
    "    target_pcd = o3d.geometry.PointCloud()\n",
    "    target_pcd.points = target_mesh.vertices\n",
    "    \n",
    "    source_pcd.estimate_normals()\n",
    "    target_pcd.estimate_normals()\n",
    "\n",
    "    trans_init = np.identity(4)\n",
    "    threshold = 0.02 * 2\n",
    "    reg_p2l = o3d.pipelines.registration.registration_icp(\n",
    "        source_pcd, target_pcd, threshold, trans_init,\n",
    "        o3d.pipelines.registration.TransformationEstimationPointToPlane(),\n",
    "        o3d.pipelines.registration.ICPConvergenceCriteria(max_iteration=200)\n",
    "    )\n",
    "    source_pcd.transform(reg_p2l.transformation)\n",
    "    source_mesh.vertices = source_pcd.points"
   ]
  },
  {
   "cell_type": "code",
   "execution_count": 10,
   "id": "8941e66c",
   "metadata": {},
   "outputs": [],
   "source": [
    "def add_wireframe_to_geo(mesh, geo, color = [0, 0, 0]):\n",
    "    wireframe = o3d.geometry.LineSet.create_from_triangle_mesh(mesh)\n",
    "    pcd = o3d.geometry.PointCloud()\n",
    "    pcd.points = mesh.vertices\n",
    "\n",
    "    pcd.paint_uniform_color(color)\n",
    "    wireframe.paint_uniform_color(color)\n",
    "\n",
    "    geo.append(wireframe)\n",
    "    geo.append(pcd)"
   ]
  },
  {
   "cell_type": "code",
   "execution_count": 110,
   "id": "373ccd20",
   "metadata": {},
   "outputs": [],
   "source": [
    "def arcs(mesh):\n",
    "    vertices = np.asarray(mesh.vertices)\n",
    "    for tri in np.asarray(mesh.triangles):\n",
    "        yield [vertices[tri[0]], vertices[tri[1]]]\n",
    "        yield [vertices[tri[1]], vertices[tri[2]]]\n",
    "        yield [vertices[tri[2]], vertices[tri[0]]]\n",
    "\n",
    "def find_parametrized_mesh_intersections(mesh_a: o3d.geometry.TriangleMesh, mesh_b: o3d.geometry.TriangleMesh):\n",
    "    result = np.ndarray((0, 3), dtype=float)\n",
    "    \n",
    "    for arc_a in tqdm(arcs(mesh_a), total=len(mesh_a.triangles) * 3):\n",
    "        normal_a = np.cross(arc_a[0], arc_a[1])\n",
    "        for arc_b in arcs(mesh_b):\n",
    "            if np.dot(arc_a[0], arc_b[0]) < 0:\n",
    "                continue\n",
    "\n",
    "            normal_b = np.cross(arc_b[0], arc_b[1])\n",
    "            d = np.cross(normal_a, normal_b)\n",
    "\n",
    "            if np.isclose(np.linalg.norm(d), 0):\n",
    "                continue\n",
    "            \n",
    "            if np.dot(d, arc_a[0]) < 0:\n",
    "                d = -d\n",
    "\n",
    "            if np.dot(np.cross(arc_a[0], d), np.cross(arc_a[1], d)) >= 0:\n",
    "                continue\n",
    "            \n",
    "            if np.dot(np.cross(arc_b[0], d), np.cross(arc_b[1], d)) >= 0:\n",
    "                continue\n",
    "        \n",
    "            result = np.append(result, [normalize(d)], axis=0)\n",
    "    \n",
    "    return result"
   ]
  },
  {
   "cell_type": "code",
   "execution_count": 111,
   "id": "dcd317b6",
   "metadata": {},
   "outputs": [],
   "source": [
    "parametrized_mesh_a = parametrize_mesh(mesh_a)\n",
    "parametrized_mesh_b = parametrize_mesh(mesh_b)\n",
    "overlap_meshes(parametrized_mesh_b, parametrized_mesh_a)"
   ]
  },
  {
   "cell_type": "code",
   "execution_count": 113,
   "id": "a6ba4ad5",
   "metadata": {},
   "outputs": [
    {
     "name": "stderr",
     "output_type": "stream",
     "text": [
      "  0%|          | 0/768 [00:00<?, ?it/s]"
     ]
    },
    {
     "name": "stderr",
     "output_type": "stream",
     "text": [
      "100%|██████████| 768/768 [02:29<00:00,  5.14it/s]\n"
     ]
    }
   ],
   "source": [
    "inter_points = find_parametrized_mesh_intersections(parametrized_mesh_a, parametrized_mesh_b)"
   ]
  },
  {
   "cell_type": "code",
   "execution_count": 114,
   "id": "a6d0ffd6",
   "metadata": {},
   "outputs": [
    {
     "data": {
      "text/plain": [
       "PointCloud with 5988 points."
      ]
     },
     "execution_count": 114,
     "metadata": {},
     "output_type": "execute_result"
    }
   ],
   "source": [
    "pcd = o3d.geometry.PointCloud()\n",
    "pcd.points = o3d.utility.Vector3dVector(inter_points)\n",
    "pcd.paint_uniform_color([0, 1, 0])"
   ]
  },
  {
   "cell_type": "code",
   "execution_count": null,
   "id": "46658741",
   "metadata": {},
   "outputs": [
    {
     "name": "stderr",
     "output_type": "stream",
     "text": [
      "2025-05-29 19:55:37.152 python[66757:1158396] +[IMKClient subclass]: chose IMKClient_Modern\n",
      "2025-05-29 19:55:37.152 python[66757:1158396] +[IMKInputSession subclass]: chose IMKInputSession_Modern\n"
     ]
    }
   ],
   "source": [
    "geo = [pcd]\n",
    "\n",
    "add_wireframe_to_geo(parametrized_mesh_a, geo, [0, 0, 1])\n",
    "add_wireframe_to_geo(parametrized_mesh_b, geo, [1, 0, 0])\n",
    "o3d.visualization.draw_geometries(geo, mesh_show_wireframe=True)"
   ]
  }
 ],
 "metadata": {
  "kernelspec": {
   "display_name": "Python 3",
   "language": "python",
   "name": "python3"
  },
  "language_info": {
   "codemirror_mode": {
    "name": "ipython",
    "version": 3
   },
   "file_extension": ".py",
   "mimetype": "text/x-python",
   "name": "python",
   "nbconvert_exporter": "python",
   "pygments_lexer": "ipython3",
   "version": "3.12.0"
  }
 },
 "nbformat": 4,
 "nbformat_minor": 5
}
